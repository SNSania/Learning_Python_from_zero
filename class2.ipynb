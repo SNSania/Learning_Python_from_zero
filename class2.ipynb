{
 "cells": [
  {
   "cell_type": "code",
   "execution_count": 1,
   "metadata": {},
   "outputs": [
    {
     "name": "stdout",
     "output_type": "stream",
     "text": [
      "name\n",
      "Sania Nawaz\n"
     ]
    }
   ],
   "source": [
    "# if we write \"print(name)\" it will genrate error becouse the name is not defind before to remove error we need to put \"name\" so it consider it as string\n",
    "print(\"name\") #correct formate\n",
    "name : str = \"Sania Nawaz\" # or declaring before the type \n",
    "print(name) #correct now because name is already defined \n"
   ]
  },
  {
   "cell_type": "markdown",
   "metadata": {},
   "source": [
    "# String data type in Python"
   ]
  },
  {
   "cell_type": "code",
   "execution_count": 2,
   "metadata": {},
   "outputs": [
    {
     "name": "stdout",
     "output_type": "stream",
     "text": [
      "<class 'str'>\n",
      "Sania Nawaz\n"
     ]
    }
   ],
   "source": [
    "#defined in boundries is string\n",
    "# 'string', \"string\",'''string''', \"\"\"string\"\"\"\n",
    "# in typescript we use backticks `for multi text string`\n",
    "name : str = \"Sania Nawaz\"\n",
    "print(type(name))\n",
    "print(name)"
   ]
  },
  {
   "cell_type": "markdown",
   "metadata": {},
   "source": [
    "# Rule for Use of quotes  on boundries and inside boundries"
   ]
  },
  {
   "cell_type": "code",
   "execution_count": 4,
   "metadata": {},
   "outputs": [
    {
     "name": "stdout",
     "output_type": "stream",
     "text": [
      "PIAIC Student Card \n",
      " Father's Name\n"
     ]
    }
   ],
   "source": [
    "# If we use double quotes on boundry then the quote inside boundry will be single quote e.g. father's will be single \n",
    "message : str = \"PIAIC Student Card \\n Father's Name\" # Correct formate (\"\\n\" is for new line or next line)\n",
    "print(message)"
   ]
  },
  {
   "cell_type": "code",
   "execution_count": 5,
   "metadata": {},
   "outputs": [
    {
     "name": "stdout",
     "output_type": "stream",
     "text": [
      "PIAIC Student Card \n",
      " Father's Name\n"
     ]
    }
   ],
   "source": [
    "# converting special character(such as single quote) to a simple charater by puting \\ before quote/charater e.g. \\'\n",
    "# we use single quotes for boundries then inside the boundries the single qote will be present with a back slash \"\\\" before single quote\n",
    "message : str = 'PIAIC Student Card \\n Father\\'s Name' # Correct formate \n",
    "#message : str = 'PIAIC Student Card \\n Father's Name' # InCorrect formate because it will create an error computer can not guess the boundry\n",
    "print(message)"
   ]
  },
  {
   "cell_type": "code",
   "execution_count": 6,
   "metadata": {},
   "outputs": [
    {
     "name": "stdout",
     "output_type": "stream",
     "text": [
      "PIAIC \"Student Card\" \n",
      " Father Name\n"
     ]
    }
   ],
   "source": [
    "# if you need double quote in between boundries then the boundries will be made by single quotes\n",
    "message : str = 'PIAIC \"Student Card\" \\n Father Name' # Correct formate \n",
    "print(message)"
   ]
  },
  {
   "cell_type": "code",
   "execution_count": 3,
   "metadata": {},
   "outputs": [
    {
     "name": "stdout",
     "output_type": "stream",
     "text": [
      "<class 'str'>\n",
      "Sania Nawaz\n"
     ]
    }
   ],
   "source": [
    "# single quotes 'string'\n",
    "name : str = 'Sania Nawaz'\n",
    "print(type(name))\n",
    "print(name)"
   ]
  },
  {
   "cell_type": "code",
   "execution_count": 24,
   "metadata": {},
   "outputs": [
    {
     "name": "stdout",
     "output_type": "stream",
     "text": [
      "PIAIC Student Card\n",
      " Student Name: Sania Nawaz\n",
      " Age: 0\n",
      " Education: PhD Finance\n"
     ]
    }
   ],
   "source": [
    "\n",
    "name : str = \"Sania Nawaz\"\n",
    "fname : str = 'Raja Rab Nawaz'\n",
    "education : str = \"PhD Finance\"\n",
    "age : int = 0\n",
    "card : str = \"PIAIC Student Card\\n Student Name: \" + name + \"\\n Age: \" + str(age) + \"\\n Education: \" + education \n",
    "# we converted age(int) to string(str) by using str(age) rule\n",
    "print(card)"
   ]
  },
  {
   "cell_type": "code",
   "execution_count": 22,
   "metadata": {},
   "outputs": [
    {
     "name": "stdout",
     "output_type": "stream",
     "text": [
      "PIAIC Student Card\n",
      " Student Name: Sania Nawaz\n",
      " Age: 100\n",
      " Education: PhD Finance\n"
     ]
    }
   ],
   "source": [
    "name : str = \"Sania Nawaz\"\n",
    "fname : str = 'Raja Rab Nawaz'\n",
    "education : str = \"PhD Finance\"\n",
    "age : int = 100\n",
    "card : str = \"PIAIC Student Card\\n Student Name: \" + name + \\\n",
    "      \"\\n Age: \" + str(age) + \"\\n Education: \" + education \n",
    "# we used \"\\\" , due to some reason such as to reduce the line length we want to write from next line but want to continue the same logic back slash is used\n",
    "print(card) # output is same as above where logic was written in the same line"
   ]
  },
  {
   "cell_type": "markdown",
   "metadata": {},
   "source": [
    "# concatenation rules"
   ]
  },
  {
   "cell_type": "code",
   "execution_count": 9,
   "metadata": {},
   "outputs": [
    {
     "data": {
      "text/plain": [
       "'abc'"
      ]
     },
     "execution_count": 9,
     "metadata": {},
     "output_type": "execute_result"
    }
   ],
   "source": [
    "# concatenation\n",
    "\"a\" + \"b\" + \"c\" # Correct\n",
    "# \"a\" + 7    the error will apper because string can not be concated with integer(int)\n",
    "#TypeError                                 Traceback (most recent call last)\n",
    "#Cell In[8], line 3\n",
    "    #  1 # concatenation\n",
    "     # 2 \"a\" + \"b\" + \"c\" # Correct\n",
    "#----> 3 \"a\" + 7 \n",
    "#TypeError: can only concatenate str (not \"int\") to str"
   ]
  },
  {
   "cell_type": "code",
   "execution_count": 17,
   "metadata": {},
   "outputs": [
    {
     "data": {
      "text/plain": [
       "'a8'"
      ]
     },
     "execution_count": 17,
     "metadata": {},
     "output_type": "execute_result"
    }
   ],
   "source": [
    "# if we want to concatenate string and number we have to convert number in to string \n",
    "\"a\" + \"7\" #correct formate output will be 'a7'\n",
    "\"a\" + str(8) # correct formate to convert int to str the function we used \"str()\"\""
   ]
  },
  {
   "cell_type": "code",
   "execution_count": 19,
   "metadata": {},
   "outputs": [
    {
     "name": "stdout",
     "output_type": "stream",
     "text": [
      "17\n",
      "17\n"
     ]
    }
   ],
   "source": [
    "# back slash (\\) means the logic is continued in next line. we write back slash in the end of every line to guide computer the same logic is going on \n",
    "print(8 + 7 + 2) # output 17\n",
    "print(8 + \\\n",
    "      7 + \\\n",
    "      2)  # output will be same as previous 17 "
   ]
  },
  {
   "cell_type": "markdown",
   "metadata": {},
   "source": [
    "# Define Multiline String \"\"\" \"\"\" (triple quotes double quotes) , ''' ''' (triple single quotes)"
   ]
  },
  {
   "cell_type": "code",
   "execution_count": 34,
   "metadata": {},
   "outputs": [
    {
     "name": "stdout",
     "output_type": "stream",
     "text": [
      "\n",
      "PIAIC Student Card\n",
      "Student Name:  .......\n",
      "Age: .........\n",
      "Education: ........\n",
      "\n"
     ]
    }
   ],
   "source": [
    "# Double Triple Quotes \"\"\" \"\"\"\n",
    "name : str = \"Sania Nawaz\"\n",
    "fname : str = 'Raja Rab Nawaz'\n",
    "education : str = \"PhD Finance\"\n",
    "age : int = 0\n",
    "card : str = \"\"\"\n",
    "PIAIC Student Card\n",
    "Student Name:  .......\n",
    "Age: .........\n",
    "Education: ........\n",
    "\"\"\"\n",
    "print(card)"
   ]
  },
  {
   "cell_type": "code",
   "execution_count": 33,
   "metadata": {},
   "outputs": [
    {
     "name": "stdout",
     "output_type": "stream",
     "text": [
      "\n",
      "PIAIC Student Card\n",
      "Student Name:  .......\n",
      "Age: .........\n",
      "Education: ........\n",
      "\n"
     ]
    }
   ],
   "source": [
    "# single triple quotes ''' ''''\n",
    "name : str = \"Sania Nawaz\"\n",
    "fname : str = 'Raja Rab Nawaz'\n",
    "education : str = \"PhD Finance\"\n",
    "age : int = 0\n",
    "card : str = '''\n",
    "PIAIC Student Card\n",
    "Student Name:  .......\n",
    "Age: .........\n",
    "Education: ........\n",
    "'''\n",
    "print(card)"
   ]
  },
  {
   "cell_type": "markdown",
   "metadata": {},
   "source": [
    "# F-String Python (its really powerfull feature of python)"
   ]
  },
  {
   "cell_type": "code",
   "execution_count": 32,
   "metadata": {},
   "outputs": [
    {
     "name": "stdout",
     "output_type": "stream",
     "text": [
      "\n",
      "PIAIC Student Card\n",
      "Student Name:  Sania Nawaz\n",
      "Father Name : Raja Rab Nawaz\n",
      "Age: 0\n",
      "Education: PhD Finance\n",
      "\n"
     ]
    }
   ],
   "source": [
    "# write f right after = sign and before quotes and use {} to write the name of variable. in f-string for int we dont need to change it to string  for concatenation\n",
    "name : str = \"Sania Nawaz\"\n",
    "fname : str = 'Raja Rab Nawaz'\n",
    "education : str = \"PhD Finance\"\n",
    "age : int = 0\n",
    "card : str = f'''\n",
    "PIAIC Student Card    \n",
    "Student Name:  {name}\n",
    "Father Name : {fname}\n",
    "Age: {age}\n",
    "Education: {education}\n",
    "'''\n",
    "print(card)"
   ]
  },
  {
   "cell_type": "code",
   "execution_count": 35,
   "metadata": {},
   "outputs": [
    {
     "name": "stdout",
     "output_type": "stream",
     "text": [
      "\n",
      "PIAIC Student Card    \n",
      "Student Name:  Sania Nawaz\n",
      "Father Name : Raja Rab Nawaz\n",
      "Age: 0\n",
      "Education: PhD Finance\n",
      "\n"
     ]
    }
   ],
   "source": [
    "# f-string is used for both cases of triple single an double quotes\n",
    "name : str = \"Sania Nawaz\"\n",
    "fname : str = 'Raja Rab Nawaz'\n",
    "education : str = \"PhD Finance\"\n",
    "age : int = 0\n",
    "card : str = f\"\"\"\n",
    "PIAIC Student Card    \n",
    "Student Name:  {name}\n",
    "Father Name : {fname}\n",
    "Age: {age}\n",
    "Education: {education}\n",
    "\"\"\"\n",
    "print(card)"
   ]
  },
  {
   "cell_type": "code",
   "execution_count": 39,
   "metadata": {},
   "outputs": [
    {
     "name": "stdout",
     "output_type": "stream",
     "text": [
      "\n",
      "PIAIC Student Card    \n",
      "Student Name:  Sania Nawaz\n",
      "Father Name : Raja Rab Nawaz\n",
      "Age: 0\n",
      "Education: PhD Finance\n",
      "\n",
      "Total 17\n",
      "\n"
     ]
    }
   ],
   "source": [
    "# with f-string we can perfom any other function we want to such as we perfomd addition subtraction\n",
    "name : str = \"Sania Nawaz\"\n",
    "fname : str = 'Raja Rab Nawaz'\n",
    "education : str = \"PhD Finance\"\n",
    "age : int = 0\n",
    "card : str = f\"\"\"\n",
    "PIAIC Student Card    \n",
    "Student Name:  {name}\n",
    "Father Name : {fname}\n",
    "Age: {age}\n",
    "Education: {education}\n",
    "\n",
    "Total {5+6+8+9+3-2-12}\n",
    "\"\"\"\n",
    "print(card)"
   ]
  },
  {
   "cell_type": "markdown",
   "metadata": {},
   "source": [
    "# Jingja Style"
   ]
  },
  {
   "cell_type": "code",
   "execution_count": null,
   "metadata": {},
   "outputs": [],
   "source": [
    "# its simillar to f-string only we use double {{}} rest is simmilar (its output works on server html)\n",
    "\"\"\"\n",
    "Student Name {{name}}\n",
    "\n",
    "\"\"\""
   ]
  },
  {
   "cell_type": "code",
   "execution_count": 40,
   "metadata": {},
   "outputs": [
    {
     "name": "stdout",
     "output_type": "stream",
     "text": [
      "\n",
      "PIAIC Student Card    \n",
      "Student Name:  Sania Nawaz\n",
      "Father Name : Raja Rab Nawaz\n",
      "Age: 0\n",
      "Education: PhD Finance\n",
      "\n"
     ]
    }
   ],
   "source": [
    "# the basic concatenation method is we use %s for string %d for int and at the end right after quotes %(name, fname, age, education) to assign values\n",
    "name : str = \"Sania Nawaz\"\n",
    "fname : str = 'Raja Rab Nawaz'\n",
    "education : str = \"PhD Finance\"\n",
    "age : int = 0\n",
    "card : str = f\"\"\"\n",
    "PIAIC Student Card    \n",
    "Student Name:  %s\n",
    "Father Name : %s\n",
    "Age: %d\n",
    "Education: %s\n",
    "\"\"\" %(name, fname, age, education)\n",
    "\n",
    "print(card)"
   ]
  },
  {
   "cell_type": "code",
   "execution_count": 47,
   "metadata": {},
   "outputs": [
    {
     "data": {
      "text/plain": [
       "['__add__',\n",
       " '__class__',\n",
       " '__contains__',\n",
       " '__delattr__',\n",
       " '__dir__',\n",
       " '__doc__',\n",
       " '__eq__',\n",
       " '__format__',\n",
       " '__ge__',\n",
       " '__getattribute__',\n",
       " '__getitem__',\n",
       " '__getnewargs__',\n",
       " '__getstate__',\n",
       " '__gt__',\n",
       " '__hash__',\n",
       " '__init__',\n",
       " '__init_subclass__',\n",
       " '__iter__',\n",
       " '__le__',\n",
       " '__len__',\n",
       " '__lt__',\n",
       " '__mod__',\n",
       " '__mul__',\n",
       " '__ne__',\n",
       " '__new__',\n",
       " '__reduce__',\n",
       " '__reduce_ex__',\n",
       " '__repr__',\n",
       " '__rmod__',\n",
       " '__rmul__',\n",
       " '__setattr__',\n",
       " '__sizeof__',\n",
       " '__str__',\n",
       " '__subclasshook__',\n",
       " 'capitalize',\n",
       " 'casefold',\n",
       " 'center',\n",
       " 'count',\n",
       " 'encode',\n",
       " 'endswith',\n",
       " 'expandtabs',\n",
       " 'find',\n",
       " 'format',\n",
       " 'format_map',\n",
       " 'index',\n",
       " 'isalnum',\n",
       " 'isalpha',\n",
       " 'isascii',\n",
       " 'isdecimal',\n",
       " 'isdigit',\n",
       " 'isidentifier',\n",
       " 'islower',\n",
       " 'isnumeric',\n",
       " 'isprintable',\n",
       " 'isspace',\n",
       " 'istitle',\n",
       " 'isupper',\n",
       " 'join',\n",
       " 'ljust',\n",
       " 'lower',\n",
       " 'lstrip',\n",
       " 'maketrans',\n",
       " 'partition',\n",
       " 'removeprefix',\n",
       " 'removesuffix',\n",
       " 'replace',\n",
       " 'rfind',\n",
       " 'rindex',\n",
       " 'rjust',\n",
       " 'rpartition',\n",
       " 'rsplit',\n",
       " 'rstrip',\n",
       " 'split',\n",
       " 'splitlines',\n",
       " 'startswith',\n",
       " 'strip',\n",
       " 'swapcase',\n",
       " 'title',\n",
       " 'translate',\n",
       " 'upper',\n",
       " 'zfill']"
      ]
     },
     "execution_count": 47,
     "metadata": {},
     "output_type": "execute_result"
    }
   ],
   "source": [
    "dir(str) # showes all methods \n"
   ]
  },
  {
   "cell_type": "code",
   "execution_count": 48,
   "metadata": {},
   "outputs": [
    {
     "data": {
      "text/plain": [
       "['capitalize',\n",
       " 'casefold',\n",
       " 'center',\n",
       " 'count',\n",
       " 'encode',\n",
       " 'endswith',\n",
       " 'expandtabs',\n",
       " 'find',\n",
       " 'format',\n",
       " 'format_map',\n",
       " 'index',\n",
       " 'isalnum',\n",
       " 'isalpha',\n",
       " 'isascii',\n",
       " 'isdecimal',\n",
       " 'isdigit',\n",
       " 'isidentifier',\n",
       " 'islower',\n",
       " 'isnumeric',\n",
       " 'isprintable',\n",
       " 'isspace',\n",
       " 'istitle',\n",
       " 'isupper',\n",
       " 'join',\n",
       " 'ljust',\n",
       " 'lower',\n",
       " 'lstrip',\n",
       " 'maketrans',\n",
       " 'partition',\n",
       " 'removeprefix',\n",
       " 'removesuffix',\n",
       " 'replace',\n",
       " 'rfind',\n",
       " 'rindex',\n",
       " 'rjust',\n",
       " 'rpartition',\n",
       " 'rsplit',\n",
       " 'rstrip',\n",
       " 'split',\n",
       " 'splitlines',\n",
       " 'startswith',\n",
       " 'strip',\n",
       " 'swapcase',\n",
       " 'title',\n",
       " 'translate',\n",
       " 'upper',\n",
       " 'zfill']"
      ]
     },
     "execution_count": 48,
     "metadata": {},
     "output_type": "execute_result"
    }
   ],
   "source": [
    "[i for i in dir(name) if \"__\" not in i] #shows all methods and attributes"
   ]
  },
  {
   "cell_type": "code",
   "execution_count": 45,
   "metadata": {},
   "outputs": [
    {
     "name": "stdout",
     "output_type": "stream",
     "text": [
      "Sania nawaz\n",
      "sania nawaz\n",
      "sania nawaz\n",
      "SANIA NAWAZ\n"
     ]
    }
   ],
   "source": [
    "# diffrent methords are used\n",
    "name : str = \"sAnia nAwAz\"\n",
    "print(name.capitalize()) # to call a method we use dot \".\" after variable\n",
    "print(name.casefold())\n",
    "print(name.lower())\n",
    "print(name.upper())\n",
    "\n"
   ]
  },
  {
   "cell_type": "code",
   "execution_count": 49,
   "metadata": {},
   "outputs": [
    {
     "data": {
      "text/plain": [
       "'Pakistan value a = 8 and value b = 5'"
      ]
     },
     "execution_count": 49,
     "metadata": {},
     "output_type": "execute_result"
    }
   ],
   "source": [
    "#{} place holder  (this is a part of f-string)\n",
    "a = 8\n",
    "b = 5\n",
    "\"Pakistan value a = {} and value b = {}\".format(a,b)\n",
    "#                    0                1          0,1\n",
    "# the first {} is index is 0 and 2nd index is 1 so (0,1)"
   ]
  },
  {
   "cell_type": "code",
   "execution_count": 52,
   "metadata": {},
   "outputs": [
    {
     "name": "stdout",
     "output_type": "stream",
     "text": [
      "\n",
      "PIAIC Student Card    \n",
      "Student Name: Raja Rab Nawaz\n",
      "Father Name : PhD Finance\n",
      "Age: 0\n",
      "Education: Sania Nawaz\n",
      "\n"
     ]
    }
   ],
   "source": [
    "name : str = \"Sania Nawaz\"\n",
    "fname : str = 'Raja Rab Nawaz'\n",
    "education : str = \"PhD Finance\"\n",
    "age : int = 0\n",
    "card : str = \"\"\"\n",
    "PIAIC Student Card    \n",
    "Student Name: {}  \n",
    "Father Name : {}\n",
    "Age: {}\n",
    "Education: {}\n",
    "\"\"\".format(fname,education,age,name) # if we changed the order the indexing will mix the  real order\n",
    "#           0      1        2   3\n",
    "print(card)"
   ]
  },
  {
   "cell_type": "code",
   "execution_count": 53,
   "metadata": {},
   "outputs": [
    {
     "name": "stdout",
     "output_type": "stream",
     "text": [
      "\n",
      "PIAIC Student Card    \n",
      "Student Name: Sania Nawaz  \n",
      "Father Name : Raja Rab Nawaz\n",
      "Age: 0\n",
      "Education: PhD Finance\n",
      "\n"
     ]
    }
   ],
   "source": [
    "# so to avoid mixing of order we will place the order present in format of index we will put in {} to form correct order\n",
    "name : str = \"Sania Nawaz\"\n",
    "fname : str = 'Raja Rab Nawaz'\n",
    "education : str = \"PhD Finance\"\n",
    "age : int = 0\n",
    "card : str = \"\"\"\n",
    "PIAIC Student Card    \n",
    "Student Name: {3}  \n",
    "Father Name : {0}\n",
    "Age: {2}\n",
    "Education: {1}\n",
    "\"\"\".format(fname,education,age,name) # if we changed the order the indexing will mix the  real order\n",
    "#           0      1        2   3\n",
    "print(card)"
   ]
  },
  {
   "cell_type": "code",
   "execution_count": 54,
   "metadata": {},
   "outputs": [
    {
     "name": "stdout",
     "output_type": "stream",
     "text": [
      "\n",
      "PIAIC Student Card    \n",
      "Student Name: Sania Nawaz  \n",
      "Father Name : Raja Rab Nawaz\n",
      "Age: 0\n",
      "Education: PhD Finance\n",
      "\n"
     ]
    }
   ],
   "source": [
    "name : str = \"Sania Nawaz\"\n",
    "fname : str = 'Raja Rab Nawaz'\n",
    "education : str = \"PhD Finance\"\n",
    "age : int = 0\n",
    "card : str = \"\"\"\n",
    "PIAIC Student Card    \n",
    "Student Name: {a}  \n",
    "Father Name : {b}\n",
    "Age: {c}\n",
    "Education: {d}\n",
    "\"\"\".format(a=name, b=fname, c=age, d=education) # we can also do in this way\n",
    "#    these are old method f-string have solved the comlexity but still we need to learn these just in case we need it\n",
    "#such methods were in old versions so we should know them      \n",
    "print(card)"
   ]
  },
  {
   "cell_type": "code",
   "execution_count": 1,
   "metadata": {},
   "outputs": [
    {
     "name": "stdout",
     "output_type": "stream",
     "text": [
      "My name is Sania Nawaz\n",
      "16\n"
     ]
    }
   ],
   "source": [
    "\n",
    "student_code : str = \"\"\" \n",
    "print(\"My name is Sania Nawaz\")\n",
    "a : int = 8\n",
    "b : int = 7\n",
    "c : int = 6\n",
    "d : int = 5\n",
    "print(a + b + c -d)\n",
    "\"\"\"\n",
    "exec(student_code)"
   ]
  },
  {
   "cell_type": "markdown",
   "metadata": {},
   "source": [
    "# exploring string methords and attributes\n",
    "# predefined global functions\n",
    "print\n",
    "type \n",
    "id\n",
    "dir\n",
    "len"
   ]
  },
  {
   "cell_type": "code",
   "execution_count": 3,
   "metadata": {},
   "outputs": [
    {
     "name": "stdout",
     "output_type": "stream",
     "text": [
      "['capitalize', 'casefold', 'center', 'count', 'encode', 'endswith', 'expandtabs', 'find', 'format', 'format_map', 'index', 'isalnum', 'isalpha', 'isascii', 'isdecimal', 'isdigit', 'isidentifier', 'islower', 'isnumeric', 'isprintable', 'isspace', 'istitle', 'isupper', 'join', 'ljust', 'lower', 'lstrip', 'maketrans', 'partition', 'removeprefix', 'removesuffix', 'replace', 'rfind', 'rindex', 'rjust', 'rpartition', 'rsplit', 'rstrip', 'split', 'splitlines', 'startswith', 'strip', 'swapcase', 'title', 'translate', 'upper', 'zfill']\n",
      "47\n"
     ]
    }
   ],
   "source": [
    "#this function explains the number of methords inside string\n",
    "a : list[str] = [i for i in dir(str) if \"__\" not in i]\n",
    "print(a)\n",
    "print(len(a)) #output\n",
    "#['capitalize', 'casefold', 'center', 'count', 'encode', 'endswith', 'expandtabs', 'find', 'format', 'format_map', 'index', 'isalnum', 'isalpha', 'isascii', 'isdecimal', 'isdigit', 'isidentifier', 'islower', 'isnumeric', 'isprintable', 'isspace', 'istitle', 'isupper', 'join', 'ljust', 'lower', 'lstrip', 'maketrans', 'partition', 'removeprefix', 'removesuffix', 'replace', 'rfind', 'rindex', 'rjust', 'rpartition', 'rsplit', 'rstrip', 'split', 'splitlines', 'startswith', 'strip', 'swapcase', 'title', 'translate', 'upper', 'zfill']\n",
    "47\n",
    "# len is for lenght"
   ]
  },
  {
   "cell_type": "code",
   "execution_count": 25,
   "metadata": {},
   "outputs": [
    {
     "name": "stdout",
     "output_type": "stream",
     "text": [
      "Sania nawaz\n"
     ]
    },
    {
     "data": {
      "text/plain": [
       "'SANIA NAWAZ'"
      ]
     },
     "metadata": {},
     "output_type": "display_data"
    },
    {
     "data": {
      "text/plain": [
       "'sania nawaz'"
      ]
     },
     "metadata": {},
     "output_type": "display_data"
    },
    {
     "name": "stdout",
     "output_type": "stream",
     "text": [
      "sania nawaz\n",
      "sania nawaz\n"
     ]
    }
   ],
   "source": [
    "#variable_name.method() some methords take argument and some dont take argument\n",
    "name : str = \"sanIa nAwAz\"\n",
    "print(name.capitalize()) # first capital\n",
    "display(name.upper()) # all in capital\n",
    "display(name.lower()) # all in lower case\n",
    "print(name.casefold()) # no case\n",
    "\n",
    "print(name.lower()) # all in lower case\n",
    "\n"
   ]
  },
  {
   "cell_type": "code",
   "execution_count": 24,
   "metadata": {},
   "outputs": [
    {
     "data": {
      "text/plain": [
       "'     Sania Nawaz     '"
      ]
     },
     "metadata": {},
     "output_type": "display_data"
    },
    {
     "data": {
      "text/plain": [
       "'Sania Nawaz     '"
      ]
     },
     "metadata": {},
     "output_type": "display_data"
    },
    {
     "data": {
      "text/plain": [
       "'     Sania Nawaz'"
      ]
     },
     "metadata": {},
     "output_type": "display_data"
    },
    {
     "data": {
      "text/plain": [
       "'Sania Nawaz'"
      ]
     },
     "metadata": {},
     "output_type": "display_data"
    }
   ],
   "source": [
    "name : str = \"     Sania Nawaz     \"  \n",
    "display(name)\n",
    "display(name.lstrip()) #shifts left by removing spaces on left side\n",
    "display(name.rstrip()) #shifts right by removing spaces on right side\n",
    "display(name.strip()) # remove spaces from both sides\n",
    "#display is used to print the varible but its qulaty is it displays the text in the related way of html and is stylish. \n",
    "#print simply prints the text"
   ]
  },
  {
   "cell_type": "code",
   "execution_count": 19,
   "metadata": {},
   "outputs": [
    {
     "data": {
      "text/plain": [
       "'    Sania    Nawaz     '"
      ]
     },
     "metadata": {},
     "output_type": "display_data"
    },
    {
     "data": {
      "text/plain": [
       "' Sania Nawaz '"
      ]
     },
     "metadata": {},
     "output_type": "display_data"
    },
    {
     "data": {
      "text/plain": [
       "'Sania Nawaz'"
      ]
     },
     "metadata": {},
     "output_type": "display_data"
    }
   ],
   "source": [
    "import re\n",
    "name : str = \"    Sania    Nawaz     \"   #re is \"regular expression\"   sub is \"subtitute\" re.sub('{pattren}',' replacement',variable_name)\n",
    "display(name)\n",
    "\n",
    "name1 : str = re.sub(' {2,100}',' ', name) # formate is re.sub('{}',' showed space',variable_name)\n",
    "display(name1) #('{more than one space will be removed}',' showed single space',variable_name)\n",
    "name2 : str = re.sub(' {2,100}',' ', name).strip() #removed the single space which was left in output of upper function \n",
    "display(name2)"
   ]
  },
  {
   "cell_type": "code",
   "execution_count": 22,
   "metadata": {},
   "outputs": [
    {
     "data": {
      "text/plain": [
       "'Sania Nawaz'"
      ]
     },
     "metadata": {},
     "output_type": "display_data"
    }
   ],
   "source": [
    "\n",
    "name : str = \"sania naWaz\"\n",
    "display(name.title()) #converts first letter of each in to capital\n",
    "\n",
    "\n"
   ]
  },
  {
   "cell_type": "code",
   "execution_count": 28,
   "metadata": {},
   "outputs": [
    {
     "data": {
      "text/plain": [
       "'Sania Nawaz'"
      ]
     },
     "metadata": {},
     "output_type": "display_data"
    },
    {
     "name": "stdout",
     "output_type": "stream",
     "text": [
      "Sania Nawaz\n",
      "Hello, Sania Nawaz!\n"
     ]
    }
   ],
   "source": [
    "first_name : str = \"Sania\"\n",
    "last_name : str = \"Nawaz\"\n",
    "full_name = f\"{first_name} {last_name}\"\n",
    "display(full_name)\n",
    "print(full_name)\n",
    "print(f\"Hello, {full_name.title()}!\")\n"
   ]
  },
  {
   "cell_type": "code",
   "execution_count": 31,
   "metadata": {},
   "outputs": [
    {
     "name": "stdout",
     "output_type": "stream",
     "text": [
      "Name: \t Sania Nawaz\n",
      "Name:Sania Nawaz\n",
      "Name: \n",
      " Sania Nawaz\n"
     ]
    }
   ],
   "source": [
    "\n",
    "print(\"Name: \\t Sania Nawaz\") # \\t (tab)\n",
    "print(\"Name: \\bSania Nawaz\") # \\b (back space)\n",
    "print(\"Name: \\n Sania Nawaz\") # \\n (new line)"
   ]
  },
  {
   "cell_type": "code",
   "execution_count": 35,
   "metadata": {},
   "outputs": [
    {
     "data": {
      "text/plain": [
       "' Sania Nawaz'"
      ]
     },
     "execution_count": 35,
     "metadata": {},
     "output_type": "execute_result"
    }
   ],
   "source": [
    "youtube_url : str = 'https://www.youtube.com/'\n",
    "\n",
    "youtube_url.removeprefix('https://www.')\n",
    "name : str = \"Dr. Sania Nawaz\"\n",
    "name.removeprefix(\"Dr.\")\n"
   ]
  },
  {
   "cell_type": "code",
   "execution_count": null,
   "metadata": {},
   "outputs": [],
   "source": [
    "#string\n",
    "# https://docs.python.org/3/tutorial/inputoutput.html"
   ]
  }
 ],
 "metadata": {
  "kernelspec": {
   "display_name": "Python12",
   "language": "python",
   "name": "python3"
  },
  "language_info": {
   "codemirror_mode": {
    "name": "ipython",
    "version": 3
   },
   "file_extension": ".py",
   "mimetype": "text/x-python",
   "name": "python",
   "nbconvert_exporter": "python",
   "pygments_lexer": "ipython3",
   "version": "3.12.0"
  }
 },
 "nbformat": 4,
 "nbformat_minor": 2
}
