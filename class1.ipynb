{
 "cells": [
  {
   "cell_type": "markdown",
   "metadata": {},
   "source": [
    "#I am happy to start python with static type"
   ]
  },
  {
   "cell_type": "code",
   "execution_count": 1,
   "metadata": {},
   "outputs": [
    {
     "name": "stdout",
     "output_type": "stream",
     "text": [
      "Hello World\n",
      "Pakistan Zindabad1\n"
     ]
    }
   ],
   "source": [
    "print(\"Hello World\")\n",
    "print(\"Pakistan Zindabad1\")"
   ]
  },
  {
   "cell_type": "code",
   "execution_count": 4,
   "metadata": {},
   "outputs": [
    {
     "name": "stdout",
     "output_type": "stream",
     "text": [
      "Hello World\n",
      "Pakistan Zindabad1\n",
      "Pakistan Zindabad2\n",
      "Pakistan Zindabad3\n",
      "Pakistan Zindabad4\n"
     ]
    }
   ],
   "source": [
    "# Jupiter note book is benifical we can write and check code moreover if we have code that take long time to process its once get loaded wont take more time on each run\n",
    "#such as the statemet below take diffrent time the one take long time will be loded once and used latly without delay we dont need to wait for each time it runs\n",
    "print(\"Hello World\")\n",
    "print(\"Pakistan Zindabad1\") # 5 sec\n",
    "print(\"Pakistan Zindabad2\") # 2 sec\n",
    "print(\"Pakistan Zindabad3\") # 20 minites \n",
    "print(\"Pakistan Zindabad4\") # 3 sec"
   ]
  },
  {
   "cell_type": "code",
   "execution_count": 1,
   "metadata": {},
   "outputs": [
    {
     "name": "stdout",
     "output_type": "stream",
     "text": [
      "hello world\n"
     ]
    }
   ],
   "source": [
    "# \"#\" hash is used for comment statement\n",
    "# markdown used for giving headings or writing related comments or information\n",
    "print(\"hello world\")"
   ]
  },
  {
   "cell_type": "markdown",
   "metadata": {},
   "source": [
    "String"
   ]
  },
  {
   "cell_type": "code",
   "execution_count": 5,
   "metadata": {},
   "outputs": [
    {
     "name": "stdout",
     "output_type": "stream",
     "text": [
      "Sania Nawaz\n",
      "<class 'str'>\n",
      "2574182994160\n",
      "['__add__', '__class__', '__contains__', '__delattr__', '__dir__', '__doc__', '__eq__', '__format__', '__ge__', '__getattribute__', '__getitem__', '__getnewargs__', '__getstate__', '__gt__', '__hash__', '__init__', '__init_subclass__', '__iter__', '__le__', '__len__', '__lt__', '__mod__', '__mul__', '__ne__', '__new__', '__reduce__', '__reduce_ex__', '__repr__', '__rmod__', '__rmul__', '__setattr__', '__sizeof__', '__str__', '__subclasshook__', 'capitalize', 'casefold', 'center', 'count', 'encode', 'endswith', 'expandtabs', 'find', 'format', 'format_map', 'index', 'isalnum', 'isalpha', 'isascii', 'isdecimal', 'isdigit', 'isidentifier', 'islower', 'isnumeric', 'isprintable', 'isspace', 'istitle', 'isupper', 'join', 'ljust', 'lower', 'lstrip', 'maketrans', 'partition', 'removeprefix', 'removesuffix', 'replace', 'rfind', 'rindex', 'rjust', 'rpartition', 'rsplit', 'rstrip', 'split', 'splitlines', 'startswith', 'strip', 'swapcase', 'title', 'translate', 'upper', 'zfill']\n",
      "['capitalize', 'casefold', 'center', 'count', 'encode', 'endswith', 'expandtabs', 'find', 'format', 'format_map', 'index', 'isalnum', 'isalpha', 'isascii', 'isdecimal', 'isdigit', 'isidentifier', 'islower', 'isnumeric', 'isprintable', 'isspace', 'istitle', 'isupper', 'join', 'ljust', 'lower', 'lstrip', 'maketrans', 'partition', 'removeprefix', 'removesuffix', 'replace', 'rfind', 'rindex', 'rjust', 'rpartition', 'rsplit', 'rstrip', 'split', 'splitlines', 'startswith', 'strip', 'swapcase', 'title', 'translate', 'upper', 'zfill']\n"
     ]
    }
   ],
   "source": [
    "name = \"Sania Nawaz\"\n",
    "\n",
    "print(name) # to print\n",
    "print(type(name)) # show type\n",
    "print(id(name)) # physical address\n",
    "print(dir(name)) # show all methods and attitudes we use dir to see all methods\n",
    "print([i for i in dir(name) if \"__\" not in i]) # method and attitude"
   ]
  },
  {
   "cell_type": "code",
   "execution_count": 5,
   "metadata": {},
   "outputs": [],
   "source": [
    "#data types\n",
    "name : str = \"Sania Nawaz\"\n",
    "name : int = 10\n",
    "name : float = 7.5\n",
    "name : bool = True\n",
    "name : list[str] = ['a', 'b', 'c']\n",
    "name : tuple[str, int, float]\n",
    "\n",
    "\n"
   ]
  },
  {
   "cell_type": "code",
   "execution_count": null,
   "metadata": {},
   "outputs": [],
   "source": [
    "# PEP 8 — the Style Guide for Python Code\n",
    "# https://pep8.org/"
   ]
  }
 ],
 "metadata": {
  "kernelspec": {
   "display_name": "base",
   "language": "python",
   "name": "python3"
  },
  "language_info": {
   "codemirror_mode": {
    "name": "ipython",
    "version": 3
   },
   "file_extension": ".py",
   "mimetype": "text/x-python",
   "name": "python",
   "nbconvert_exporter": "python",
   "pygments_lexer": "ipython3",
   "version": "3.12.0"
  }
 },
 "nbformat": 4,
 "nbformat_minor": 2
}
